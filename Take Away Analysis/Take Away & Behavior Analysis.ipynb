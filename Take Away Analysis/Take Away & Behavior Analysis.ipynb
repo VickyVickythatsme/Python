{
 "cells": [
  {
   "cell_type": "markdown",
   "metadata": {},
   "source": [
    "## Project 1 - Take Away & My behavior Analysis\n",
    "Online Takeaway is indispensable in my daily life, I wonder the frequency of my takeaway ordering in 2020 and the corresponding consequence. It's pretty hard for me to trace back all my online ordering in my head, thus I collect my bank transaction details to proceed it.<br>\n",
    "For 2020, I residents in Australia and use the Australian CommonWealth Bank(CBA) as my only bank, and I use 3 online takeaway websites in total:\n",
    "- Hungry Panda (in Chinese)\n",
    "- Easi Takeaway (in Chinese)\n",
    "- Uber Eats (in English)"
   ]
  },
  {
   "cell_type": "markdown",
   "metadata": {},
   "source": [
    "### Part 1: My 2020 takeaway data"
   ]
  },
  {
   "cell_type": "markdown",
   "metadata": {},
   "source": [
    "I download my transaction details from CommonWealth Netbank as a csv file, it has 4 columns:\n",
    "- Date\n",
    "- Amount (for Debit)\n",
    "- Details (for transfer description)\n",
    "- Balance\n",
    "\n",
    "I import then in MS Excel first since we need to do some basic data processing:\n",
    "\n",
    "- Drop Balance Attribute because it is not useful in this project\n",
    "- Select transactions that are relevant to my take away behavior: I use __filter__ in excel to extract transactions that contains words \"hungryPanda\", \"Easi\", and \"Uber Eats\"\n",
    "\n",
    "We got a processed csv file and save is as \"takeaway.csv\""
   ]
  },
  {
   "cell_type": "code",
   "execution_count": 1,
   "metadata": {},
   "outputs": [
    {
     "data": {
      "text/html": [
       "<div>\n",
       "<style scoped>\n",
       "    .dataframe tbody tr th:only-of-type {\n",
       "        vertical-align: middle;\n",
       "    }\n",
       "\n",
       "    .dataframe tbody tr th {\n",
       "        vertical-align: top;\n",
       "    }\n",
       "\n",
       "    .dataframe thead th {\n",
       "        text-align: right;\n",
       "    }\n",
       "</style>\n",
       "<table border=\"1\" class=\"dataframe\">\n",
       "  <thead>\n",
       "    <tr style=\"text-align: right;\">\n",
       "      <th></th>\n",
       "      <th>Date</th>\n",
       "      <th>Amount</th>\n",
       "      <th>Details</th>\n",
       "    </tr>\n",
       "  </thead>\n",
       "  <tbody>\n",
       "    <tr>\n",
       "      <th>0</th>\n",
       "      <td>01/04/2020</td>\n",
       "      <td>-38.57</td>\n",
       "      <td>PIN*585 HungryPanda PRAHRAN VI AUS Card xx6271...</td>\n",
       "    </tr>\n",
       "    <tr>\n",
       "      <th>1</th>\n",
       "      <td>01/07/2020</td>\n",
       "      <td>-31.46</td>\n",
       "      <td>PIN*479 HungryPanda PRAHRAN VI AUS Card xx6271...</td>\n",
       "    </tr>\n",
       "    <tr>\n",
       "      <th>2</th>\n",
       "      <td>01/07/2020</td>\n",
       "      <td>-42.22</td>\n",
       "      <td>PIN*401 HungryPanda PRAHRAN VI AUS Card xx6271...</td>\n",
       "    </tr>\n",
       "    <tr>\n",
       "      <th>3</th>\n",
       "      <td>01/08/2020</td>\n",
       "      <td>-19.49</td>\n",
       "      <td>UBER *EATS Sydney AU AUS Card xx6271 Value Dat...</td>\n",
       "    </tr>\n",
       "    <tr>\n",
       "      <th>4</th>\n",
       "      <td>01/09/2020</td>\n",
       "      <td>-19.99</td>\n",
       "      <td>UBER *EATS Sydney AU AUS Card xx6271 Value Dat...</td>\n",
       "    </tr>\n",
       "  </tbody>\n",
       "</table>\n",
       "</div>"
      ],
      "text/plain": [
       "         Date  Amount                                            Details\n",
       "0  01/04/2020  -38.57  PIN*585 HungryPanda PRAHRAN VI AUS Card xx6271...\n",
       "1  01/07/2020  -31.46  PIN*479 HungryPanda PRAHRAN VI AUS Card xx6271...\n",
       "2  01/07/2020  -42.22  PIN*401 HungryPanda PRAHRAN VI AUS Card xx6271...\n",
       "3  01/08/2020  -19.49  UBER *EATS Sydney AU AUS Card xx6271 Value Dat...\n",
       "4  01/09/2020  -19.99  UBER *EATS Sydney AU AUS Card xx6271 Value Dat..."
      ]
     },
     "execution_count": 1,
     "metadata": {},
     "output_type": "execute_result"
    }
   ],
   "source": [
    "import pandas as pd\n",
    "data = pd.read_csv(\"takeAway.csv\")\n",
    "data.head()"
   ]
  },
  {
   "cell_type": "markdown",
   "metadata": {},
   "source": [
    "Advanced data preprocessing are also necessary, since I want to divied my takeaway data into weekly behaviour, thus I have to transfer the Attribute \"Date\" into the week, for example: 01/01/2020 means the first week of 2020, so week = 1, 01/09/2020 means second week thus week = 2."
   ]
  },
  {
   "cell_type": "code",
   "execution_count": 2,
   "metadata": {},
   "outputs": [],
   "source": [
    "from datetime import date\n",
    "def dateToWeek(x):\n",
    "    day = int(x[:2])\n",
    "    month = int(x[3:5])\n",
    "    year = int(x[6:])\n",
    "    dt = date(year, month, day)\n",
    "    week = dt.strftime(\"%V\")\n",
    "    return int(week)"
   ]
  },
  {
   "cell_type": "code",
   "execution_count": 3,
   "metadata": {},
   "outputs": [],
   "source": [
    "data[\"week\"] = data[\"Date\"].apply(lambda x: dateToWeek(x))\n",
    "drop_list = ['Date']\n",
    "data.drop(drop_list, inplace = True, axis=1)"
   ]
  },
  {
   "cell_type": "code",
   "execution_count": 4,
   "metadata": {},
   "outputs": [
    {
     "data": {
      "text/html": [
       "<div>\n",
       "<style scoped>\n",
       "    .dataframe tbody tr th:only-of-type {\n",
       "        vertical-align: middle;\n",
       "    }\n",
       "\n",
       "    .dataframe tbody tr th {\n",
       "        vertical-align: top;\n",
       "    }\n",
       "\n",
       "    .dataframe thead th {\n",
       "        text-align: right;\n",
       "    }\n",
       "</style>\n",
       "<table border=\"1\" class=\"dataframe\">\n",
       "  <thead>\n",
       "    <tr style=\"text-align: right;\">\n",
       "      <th></th>\n",
       "      <th>Amount</th>\n",
       "      <th>Details</th>\n",
       "      <th>week</th>\n",
       "    </tr>\n",
       "  </thead>\n",
       "  <tbody>\n",
       "    <tr>\n",
       "      <th>0</th>\n",
       "      <td>-38.57</td>\n",
       "      <td>PIN*585 HungryPanda PRAHRAN VI AUS Card xx6271...</td>\n",
       "      <td>14</td>\n",
       "    </tr>\n",
       "    <tr>\n",
       "      <th>1</th>\n",
       "      <td>-31.46</td>\n",
       "      <td>PIN*479 HungryPanda PRAHRAN VI AUS Card xx6271...</td>\n",
       "      <td>27</td>\n",
       "    </tr>\n",
       "    <tr>\n",
       "      <th>2</th>\n",
       "      <td>-42.22</td>\n",
       "      <td>PIN*401 HungryPanda PRAHRAN VI AUS Card xx6271...</td>\n",
       "      <td>27</td>\n",
       "    </tr>\n",
       "    <tr>\n",
       "      <th>3</th>\n",
       "      <td>-19.49</td>\n",
       "      <td>UBER *EATS Sydney AU AUS Card xx6271 Value Dat...</td>\n",
       "      <td>31</td>\n",
       "    </tr>\n",
       "    <tr>\n",
       "      <th>4</th>\n",
       "      <td>-19.99</td>\n",
       "      <td>UBER *EATS Sydney AU AUS Card xx6271 Value Dat...</td>\n",
       "      <td>36</td>\n",
       "    </tr>\n",
       "  </tbody>\n",
       "</table>\n",
       "</div>"
      ],
      "text/plain": [
       "   Amount                                            Details  week\n",
       "0  -38.57  PIN*585 HungryPanda PRAHRAN VI AUS Card xx6271...    14\n",
       "1  -31.46  PIN*479 HungryPanda PRAHRAN VI AUS Card xx6271...    27\n",
       "2  -42.22  PIN*401 HungryPanda PRAHRAN VI AUS Card xx6271...    27\n",
       "3  -19.49  UBER *EATS Sydney AU AUS Card xx6271 Value Dat...    31\n",
       "4  -19.99  UBER *EATS Sydney AU AUS Card xx6271 Value Dat...    36"
      ]
     },
     "execution_count": 4,
     "metadata": {},
     "output_type": "execute_result"
    }
   ],
   "source": [
    "data.head()"
   ]
  },
  {
   "cell_type": "markdown",
   "metadata": {},
   "source": [
    "### Part 2: Visualization of Takeaway Data\n",
    "- How many orders I placed weekly in whole 2020 ?\n",
    "- How much I weekly spend on takeaway in 2020 ?"
   ]
  },
  {
   "cell_type": "code",
   "execution_count": 5,
   "metadata": {},
   "outputs": [],
   "source": [
    "# got x = week, y = orders\n",
    "weekly_order = data.groupby(\"week\")[\"Details\"].count()\n",
    "x = weekly_order.index\n",
    "y1 = weekly_order.values # number of orders"
   ]
  },
  {
   "cell_type": "code",
   "execution_count": 6,
   "metadata": {},
   "outputs": [],
   "source": [
    "# got x = week, y = amount\n",
    "weekly_amount = data.groupby(\"week\")[\"Amount\"].sum()\n",
    "y2 = [-1*a for a in weekly_amount.values]"
   ]
  },
  {
   "cell_type": "code",
   "execution_count": 12,
   "metadata": {},
   "outputs": [
    {
     "data": {
      "text/plain": [
       "[Text(0.5, 0, 'week'), Text(0, 0.5, 'Au Dollars')]"
      ]
     },
     "execution_count": 12,
     "metadata": {},
     "output_type": "execute_result"
    },
    {
     "data": {
      "image/png": "[encoded data removed]",
      "text/plain": [
       "<Figure size 432x288 with 2 Axes>"
      ]
     },
     "metadata": {
      "needs_background": "light"
     },
     "output_type": "display_data"
    }
   ],
   "source": [
    "import matplotlib.pyplot as plt\n",
    "fig, axs = plt.subplots(2)\n",
    "fig.suptitle(\"Take away visualization\")\n",
    "axs[0].plot(x,y1, color = \"#df7861\")\n",
    "axs[1].bar(x,y2, color = \"#df7861\")\n",
    "axs[1].set(xlabel='week', ylabel='Au Dollars')\n"
   ]
  },
  {
   "cell_type": "markdown",
   "metadata": {},
   "source": [
    "From the line plot and bar plot we found that:\n",
    "- From week 1 to week 13 I didn't order any online takeaway \n",
    "- In week 28, I ordered 13 times in one week, that is to say, I almost ordered all meals (Only have 2 per day) through online takeaway and it cost me almost 300 Au dollars\n",
    "- From week 20 to 40, that is, from May 11 to Sep 28, I ordered online very frequently\n",
    "- At the end of 2020, frequency was reduced"
   ]
  },
  {
   "cell_type": "markdown",
   "metadata": {},
   "source": [
    "How it happens? (Rough Analysis)\n",
    "- Covid-19 start to widely spread in Australia (NSW Sydney) from March 2020, and before that, I used to eat out at the resturant with friends, thus I did not have requirements for online ordering\n",
    "- Due to thr outbreak of Covid-19, I have to stay at home more time, so from week 13, I start to use online delivery.\n",
    "- In April, I moved to a new aparment far away from market and resturant, and covid became stronger, the count of online ordering rocktes.\n",
    "- In week 28, I went through a hardest final exam and always feel stressed, so I totally gave up cooking at home."
   ]
  },
  {
   "cell_type": "code",
   "execution_count": null,
   "metadata": {},
   "outputs": [],
   "source": []
  }
 ],
 "metadata": {
  "kernelspec": {
   "display_name": "Python 3",
   "language": "python",
   "name": "python3"
  },
  "language_info": {
   "codemirror_mode": {
    "name": "ipython",
    "version": 3
   },
   "file_extension": ".py",
   "mimetype": "text/x-python",
   "name": "python",
   "nbconvert_exporter": "python",
   "pygments_lexer": "ipython3",
   "version": "3.7.3"
  }
 },
 "nbformat": 4,
 "nbformat_minor": 4
}
